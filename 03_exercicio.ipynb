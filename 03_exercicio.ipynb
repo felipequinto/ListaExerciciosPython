{
  "nbformat": 4,
  "nbformat_minor": 0,
  "metadata": {
    "colab": {
      "provenance": [],
      "authorship_tag": "ABX9TyPUzmALMWVRIsoeLTEHgWou",
      "include_colab_link": true
    },
    "kernelspec": {
      "name": "python3",
      "display_name": "Python 3"
    },
    "language_info": {
      "name": "python"
    }
  },
  "cells": [
    {
      "cell_type": "markdown",
      "metadata": {
        "id": "view-in-github",
        "colab_type": "text"
      },
      "source": [
        "<a href=\"https://colab.research.google.com/github/felipequinto/ListaExerciciosPython/blob/main/03_exercicio.ipynb\" target=\"_parent\"><img src=\"https://colab.research.google.com/assets/colab-badge.svg\" alt=\"Open In Colab\"/></a>"
      ]
    },
    {
      "cell_type": "markdown",
      "source": [
        "03 - Escreva um programa que receba dois nomes de usuário e os combine de maneira criativa para formar um novo nome."
      ],
      "metadata": {
        "id": "gg9vH591zTyA"
      }
    },
    {
      "cell_type": "code",
      "execution_count": null,
      "metadata": {
        "colab": {
          "base_uri": "https://localhost:8080/"
        },
        "id": "nnYKfTzFzLHK",
        "outputId": "38c58de5-81a2-4f34-9a82-df699d3dc099"
      },
      "outputs": [
        {
          "output_type": "stream",
          "name": "stdout",
          "text": [
            "Digite seu nome: beatriz\n",
            "Digite seu sobrenome: moura\n",
            "Nome completo: BeaMou\n"
          ]
        }
      ],
      "source": [
        "nome = input(\"Digite seu nome: \")\n",
        "sobrenome = input(\"Digite seu sobrenome: \")\n",
        "\n",
        "print(f\"Nome completo: {nome[:3].title()}{sobrenome[:3].title()}\")"
      ]
    }
  ]
}