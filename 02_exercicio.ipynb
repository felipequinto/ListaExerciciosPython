{
  "nbformat": 4,
  "nbformat_minor": 0,
  "metadata": {
    "colab": {
      "provenance": [],
      "authorship_tag": "ABX9TyOu4JhEpSD6ylXryxBddm6o",
      "include_colab_link": true
    },
    "kernelspec": {
      "name": "python3",
      "display_name": "Python 3"
    },
    "language_info": {
      "name": "python"
    }
  },
  "cells": [
    {
      "cell_type": "markdown",
      "metadata": {
        "id": "view-in-github",
        "colab_type": "text"
      },
      "source": [
        "<a href=\"https://colab.research.google.com/github/felipequinto/ListaExerciciosPython/blob/main/02_exercicio.ipynb\" target=\"_parent\"><img src=\"https://colab.research.google.com/assets/colab-badge.svg\" alt=\"Open In Colab\"/></a>"
      ]
    },
    {
      "cell_type": "markdown",
      "source": [
        "2 - Faça um programa que converta um número fornecido de minutos em horas e minutos, e depois faça o inverso, convertendo horas e minutos de volta para minutos totais."
      ],
      "metadata": {
        "id": "TpEdrmBCHzxa"
      }
    },
    {
      "cell_type": "code",
      "source": [
        "def calcula_hora():\n",
        "    \"\"\"\n",
        "    Converte um número fornecido de minutos em horas e minutos,\n",
        "    e depois converte horas e minutos de volta para minutos totais.\n",
        "    \"\"\"\n",
        "    while True:\n",
        "        try:\n",
        "            entrada = int(input(\"Passe o número: \"))\n",
        "            hora = entrada // 60\n",
        "            minutos = entrada % 60\n",
        "            minutos_totais = (hora * 60) + minutos\n",
        "\n",
        "            print(f\"Total de horas: {hora}\")\n",
        "            print(f\"Total de minutos: {minutos}\")\n",
        "            print(f\"Minutos totais: {minutos_totais}\")\n",
        "            break\n",
        "        except ValueError:\n",
        "            print(\"Valor inválido. Digite um número inteiro.\")\n"
      ],
      "metadata": {
        "id": "Qq_fKfiTXwZm"
      },
      "execution_count": 25,
      "outputs": []
    },
    {
      "cell_type": "code",
      "source": [
        "calcula_hora()"
      ],
      "metadata": {
        "colab": {
          "base_uri": "https://localhost:8080/"
        },
        "id": "uwN_u9cJaU3k",
        "outputId": "584e9626-1781-43ef-c833-f5fb04d5920f"
      },
      "execution_count": 26,
      "outputs": [
        {
          "output_type": "stream",
          "name": "stdout",
          "text": [
            "Passe o número: 389\n",
            "Total de horas: 6\n",
            "Total de minutos: 29\n",
            "Minutos totais: 389\n"
          ]
        }
      ]
    }
  ]
}