{
  "nbformat": 4,
  "nbformat_minor": 0,
  "metadata": {
    "colab": {
      "provenance": [],
      "authorship_tag": "ABX9TyMX6ZOi9Tr6Yl9sDPwyBDON",
      "include_colab_link": true
    },
    "kernelspec": {
      "name": "python3",
      "display_name": "Python 3"
    },
    "language_info": {
      "name": "python"
    }
  },
  "cells": [
    {
      "cell_type": "markdown",
      "metadata": {
        "id": "view-in-github",
        "colab_type": "text"
      },
      "source": [
        "<a href=\"https://colab.research.google.com/github/felipequinto/ListaExerciciosPython/blob/main/04_exercicio.ipynb\" target=\"_parent\"><img src=\"https://colab.research.google.com/assets/colab-badge.svg\" alt=\"Open In Colab\"/></a>"
      ]
    },
    {
      "cell_type": "markdown",
      "source": [
        "04 - Desenvolva um programa que peça ao usuário para escolher uma operação (adição, subtração, multiplicação, divisão) e dois números, e então execute a operação escolhida com os números."
      ],
      "metadata": {
        "id": "CY9efDmU2SKB"
      }
    },
    {
      "cell_type": "code",
      "source": [
        "def calculadora():\n",
        "  while True:\n",
        "    try:\n",
        "      operacoes = [1, 2, 3, 4]\n",
        "      operacao = int(input(\"Escolha a operação: 1- Soma, 2- Subtração, 3- Multiplicação, 4- Divisão: \"))\n",
        "\n",
        "      if operacao not in operacoes:\n",
        "        print(\"Operação inválida. Tente novamente.\")\n",
        "        continue\n",
        "\n",
        "      while True:\n",
        "        try:\n",
        "          numero_1 = float(input(\"Digite o primeiro número: \"))\n",
        "          numero_2 = float(input(\"Digite o segundo número: \"))\n",
        "\n",
        "          if operacao == 1:\n",
        "            print(f\"Resultado: {numero_1 + numero_2}\")\n",
        "          elif operacao == 2:\n",
        "            print(f\"Resultado: {numero_1 - numero_2}\")\n",
        "          elif operacao == 3:\n",
        "            print(f\"Resultado: {numero_1 * numero_2}\")\n",
        "          elif operacao == 4:\n",
        "            if numero_2 != 0:\n",
        "              print(f\"Resultado: {numero_1 / numero_2}\")\n",
        "            else:\n",
        "              print(\"Erro: Divisão por zero não é permitida. Tente novamente.\")\n",
        "          break\n",
        "        except ValueError:\n",
        "          print(\"Entrada inválida. Por favor, insira números válidos.\")\n",
        "      break\n",
        "    except ValueError:\n",
        "      print(\"Entrada inválida. Por favor, insira um número válido.\")"
      ],
      "metadata": {
        "id": "55H3BpE63tX8"
      },
      "execution_count": 86,
      "outputs": []
    },
    {
      "cell_type": "code",
      "source": [
        "calculadora()"
      ],
      "metadata": {
        "colab": {
          "base_uri": "https://localhost:8080/"
        },
        "id": "g6wi45RY4CPL",
        "outputId": "2272d61e-d460-4bfc-b90b-6afd8a5511dc"
      },
      "execution_count": 87,
      "outputs": [
        {
          "output_type": "stream",
          "name": "stdout",
          "text": [
            "Escolha a operação: 1- Soma, 2- Subtração, 3- Multiplicação, 4- Divisão: 4\n",
            "Digite o primeiro número: 4\n",
            "Digite o segundo número: 2\n",
            "Resultado: 2.0\n"
          ]
        }
      ]
    },
    {
      "cell_type": "code",
      "source": [],
      "metadata": {
        "id": "E17Il68wIuRw"
      },
      "execution_count": null,
      "outputs": []
    }
  ]
}