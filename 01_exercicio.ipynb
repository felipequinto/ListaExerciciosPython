{
  "nbformat": 4,
  "nbformat_minor": 0,
  "metadata": {
    "colab": {
      "provenance": [],
      "authorship_tag": "ABX9TyMjZEyQzeUW2mKTRB1w6xRE",
      "include_colab_link": true
    },
    "kernelspec": {
      "name": "python3",
      "display_name": "Python 3"
    },
    "language_info": {
      "name": "python"
    }
  },
  "cells": [
    {
      "cell_type": "markdown",
      "metadata": {
        "id": "view-in-github",
        "colab_type": "text"
      },
      "source": [
        "<a href=\"https://colab.research.google.com/github/felipequinto/ListaExerciciosPython/blob/main/01_exercicio.ipynb\" target=\"_parent\"><img src=\"https://colab.research.google.com/assets/colab-badge.svg\" alt=\"Open In Colab\"/></a>"
      ]
    },
    {
      "cell_type": "markdown",
      "source": [
        "1 - Crie um programa que peça ao usuário para inserir dois números e, em seguida, calcule e exiba a soma, subtração, multiplicação, divisão e divisão inteira desses números."
      ],
      "metadata": {
        "id": "E1r4t5KZb2GC"
      }
    },
    {
      "cell_type": "code",
      "execution_count": null,
      "metadata": {
        "id": "_z-kr8oubkC-"
      },
      "outputs": [],
      "source": [
        "def dois_numeros():\n",
        "  \"\"\"\n",
        "  Solicita dois números ao usuário e realiza as seguintes operações:\n",
        "  soma, subtração, multiplicação, divisâo e divisão inteira.\n",
        "  Caso valores inválidos sejam passados é emitido uma mensagem de erro\n",
        "  \"\"\"\n",
        "  while True:\n",
        "    try:\n",
        "      numero = int(input(\"Digite um número: \"))\n",
        "      numero_dois = int(input(\"Digite um segundo número: \"))\n",
        "\n",
        "      # Verifica se o segundo número é zero antes de dividir\n",
        "      if numero_dois == 0:\n",
        "        print(\"Erro: Divisão por zero não é permitida.\")\n",
        "        continue\n",
        "\n",
        "      print(f\" A soma dos valores é: {numero + numero_dois}\")\n",
        "      print(f\" A subtração dos valores é: {numero - numero_dois}\")\n",
        "      print(f\" A multiplicação dos valores é: {numero * numero_dois}\")\n",
        "      print(f\" A divisão dos valores é: {numero / numero_dois}\")\n",
        "      print(f\" A divisão inteira dos valores é: {numero // numero_dois}\")\n",
        "      break\n",
        "\n",
        "    except ValueError:\n",
        "      print(\"Valor inválido, digite apenas números inteiros.\")"
      ]
    },
    {
      "cell_type": "code",
      "source": [
        "dois_numeros()"
      ],
      "metadata": {
        "colab": {
          "base_uri": "https://localhost:8080/"
        },
        "id": "ATIphQQ4Hnpn",
        "outputId": "5e7839be-6261-4aa2-9dac-766cc88970cd"
      },
      "execution_count": null,
      "outputs": [
        {
          "output_type": "stream",
          "name": "stdout",
          "text": [
            "Digite um número: 2\n",
            "Digite um segundo número: 2\n",
            " A soma dos valores é: 4\n",
            " A subtração dos valores é: 0\n",
            " A multiplicação dos valores é: 4\n",
            " A divisão dos valores é: 1.0\n",
            " A divisão inteira dos valores é: 1\n"
          ]
        }
      ]
    }
  ]
}